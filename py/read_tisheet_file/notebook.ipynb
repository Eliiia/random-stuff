{
 "cells": [
  {
   "cell_type": "markdown",
   "metadata": {},
   "source": [
    "hi!"
   ]
  },
  {
   "cell_type": "markdown",
   "metadata": {},
   "source": [
    "# Config"
   ]
  },
  {
   "cell_type": "code",
   "execution_count": 6,
   "metadata": {},
   "outputs": [],
   "source": [
    "import matplotlib.pyplot as plt\n",
    "import numpy as np\n",
    "import json\n",
    "from dateutil.parser import isoparse, parse\n",
    "from datetime import datetime, timedelta, timezone"
   ]
  },
  {
   "cell_type": "code",
   "execution_count": 7,
   "metadata": {},
   "outputs": [],
   "source": [
    "tz = timezone.utc"
   ]
  },
  {
   "cell_type": "code",
   "execution_count": 8,
   "metadata": {},
   "outputs": [],
   "source": [
    "TI_SHEET_LOCATION = \"/home/elia/.ti-sheet\"\n",
    "\n",
    "# Load the data!!!\n",
    "with open(TI_SHEET_LOCATION) as file:\n",
    "    data = json.load(file)[\"work\"]"
   ]
  },
  {
   "cell_type": "code",
   "execution_count": 9,
   "metadata": {},
   "outputs": [],
   "source": [
    "# Parse the strings in the data and store in memory\n",
    "def parseDates(data):\n",
    "    for x in data:\n",
    "        x[\"start\"] = isoparse(x[\"start\"])\n",
    "        if \"end\" not in x:\n",
    "            x[\"end\"] = datetime.now(tz=timezone.utc)\n",
    "        else:\n",
    "            x[\"end\"] = isoparse(x[\"end\"])\n",
    "    \n",
    "    return data\n",
    "\n",
    "data = parseDates(data)"
   ]
  },
  {
   "cell_type": "code",
   "execution_count": 10,
   "metadata": {},
   "outputs": [],
   "source": [
    "# Function to get the total amount of minutes!\n",
    "def getTotalMinutes(data, startoflog, endoflog=0):\n",
    "    # endoflog is an optional parameter, if unspecified will default to \"right now\" (see few lines down for where it is assigned)\n",
    "\n",
    "    # get current datetime, and store if no endoflog given\n",
    "    now = datetime.now(tz=timezone.utc)\n",
    "    if (endoflog == 0): endoflog = now # default assignment for optional here, because we need it to be equal to now\n",
    "\n",
    "    # for storing amount of time spent on each activity\n",
    "    timedata = {}\n",
    "\n",
    "    # loop through every item in ti_sheet,\n",
    "    for x in data:\n",
    "        xstart = x[\"start\"]\n",
    "        xend = x[\"end\"]\n",
    "        \n",
    "        # if before or after this period of time, skip\n",
    "        if (xstart < startoflog): continue \n",
    "        elif (xend > endoflog): continue\n",
    "\n",
    "        # calculate difference as total minutes\n",
    "        difference = (xend - xstart)\n",
    "        difference = int(difference / timedelta(minutes=1))\n",
    "\n",
    "        # save total time(s) into dictionary\n",
    "        if x[\"name\"] not in timedata: timedata[x[\"name\"]] = 0\n",
    "        timedata[x[\"name\"]] += difference\n",
    "\n",
    "    # return\n",
    "    return timedata"
   ]
  },
  {
   "cell_type": "markdown",
   "metadata": {},
   "source": [
    "# Display data\n",
    "First by minutes, then in plots"
   ]
  },
  {
   "cell_type": "code",
   "execution_count": 11,
   "metadata": {},
   "outputs": [],
   "source": [
    "# Get start of day and start of week!\n",
    "now = datetime.now(tz=tz)\n",
    "startofday = datetime(now.year, now.month, now.day, tzinfo=now.tzinfo)\n",
    "startofweek = datetime(now.year, now.month, now.day - now.weekday(), tzinfo=now.tzinfo)\n",
    "\n",
    "# Define custom dates here if you wish\n",
    "start = \"01/02/2025\"\n",
    "end = \"01/02/2026\"\n",
    "start = parse(start, dayfirst=True).replace(tzinfo=tz)\n",
    "end = parse(end, dayfirst=True).replace(tzinfo=tz)"
   ]
  },
  {
   "cell_type": "markdown",
   "metadata": {},
   "source": [
    "Below, execute the cell you want to use"
   ]
  },
  {
   "cell_type": "code",
   "execution_count": null,
   "metadata": {},
   "outputs": [
    {
     "name": "stdout",
     "output_type": "stream",
     "text": [
      "{'comp1043': 1276, 'comp1003': 638, 'comp1009': 518, 'coding': 245, 'comp1008': 219, 'comp1004': 212, 'comp1056': 45, 'comp1054': 12}\n"
     ]
    }
   ],
   "source": [
    "# Use custom dates, defined above\n",
    "activity = getTotalMinutes(data, start, end)"
   ]
  },
  {
   "cell_type": "code",
   "execution_count": null,
   "metadata": {},
   "outputs": [],
   "source": [
    "# Use current day\n",
    "activity = getTotalMinutes(data, startofday)"
   ]
  },
  {
   "cell_type": "code",
   "execution_count": null,
   "metadata": {},
   "outputs": [],
   "source": [
    "# Use current week\n",
    "activity = getTotalMinutes(data, startofweek)"
   ]
  },
  {
   "cell_type": "markdown",
   "metadata": {},
   "source": [
    "Then, how do you want to display it?"
   ]
  },
  {
   "cell_type": "code",
   "execution_count": null,
   "metadata": {},
   "outputs": [
    {
     "name": "stdout",
     "output_type": "stream",
     "text": [
      "{'comp1004': 72}\n"
     ]
    }
   ],
   "source": [
    "# Print as JSON, as amount of minutes\n",
    "print(activity)"
   ]
  }
 ],
 "metadata": {
  "kernelspec": {
   "display_name": "Python 3",
   "language": "python",
   "name": "python3"
  },
  "language_info": {
   "codemirror_mode": {
    "name": "ipython",
    "version": 3
   },
   "file_extension": ".py",
   "mimetype": "text/x-python",
   "name": "python",
   "nbconvert_exporter": "python",
   "pygments_lexer": "ipython3",
   "version": "3.13.2"
  }
 },
 "nbformat": 4,
 "nbformat_minor": 2
}
